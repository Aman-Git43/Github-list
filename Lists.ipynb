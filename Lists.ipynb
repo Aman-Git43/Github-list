{
 "cells": [
  {
   "cell_type": "markdown",
   "id": "ef211229",
   "metadata": {},
   "source": [
    "# List"
   ]
  },
  {
   "cell_type": "code",
   "execution_count": 1,
   "id": "9434049b",
   "metadata": {},
   "outputs": [],
   "source": [
    "my_first_list=[]"
   ]
  },
  {
   "cell_type": "code",
   "execution_count": 2,
   "id": "69842db8",
   "metadata": {},
   "outputs": [
    {
     "data": {
      "text/plain": [
       "list"
      ]
     },
     "execution_count": 2,
     "metadata": {},
     "output_type": "execute_result"
    }
   ],
   "source": [
    "type(my_first_list)"
   ]
  },
  {
   "cell_type": "code",
   "execution_count": 3,
   "id": "833cb55a",
   "metadata": {},
   "outputs": [],
   "source": [
    "my_list1=[1,2,3,4,5,6,7]"
   ]
  },
  {
   "cell_type": "code",
   "execution_count": 4,
   "id": "4c93c4b9",
   "metadata": {},
   "outputs": [
    {
     "data": {
      "text/plain": [
       "list"
      ]
     },
     "execution_count": 4,
     "metadata": {},
     "output_type": "execute_result"
    }
   ],
   "source": [
    "type(my_list1)"
   ]
  },
  {
   "cell_type": "code",
   "execution_count": 5,
   "id": "25df416f",
   "metadata": {},
   "outputs": [
    {
     "data": {
      "text/plain": [
       "[1, 2, 3, 4, 5, 6, 7]"
      ]
     },
     "execution_count": 5,
     "metadata": {},
     "output_type": "execute_result"
    }
   ],
   "source": [
    "my_list1"
   ]
  },
  {
   "cell_type": "code",
   "execution_count": 6,
   "id": "4b1eeab3",
   "metadata": {},
   "outputs": [],
   "source": [
    "l2=[1, True,\"abc\"]"
   ]
  },
  {
   "cell_type": "code",
   "execution_count": 7,
   "id": "61d06f06",
   "metadata": {},
   "outputs": [
    {
     "data": {
      "text/plain": [
       "[1, True, 'abc']"
      ]
     },
     "execution_count": 7,
     "metadata": {},
     "output_type": "execute_result"
    }
   ],
   "source": [
    "l2"
   ]
  },
  {
   "cell_type": "code",
   "execution_count": 8,
   "id": "22071e0b",
   "metadata": {},
   "outputs": [
    {
     "data": {
      "text/plain": [
       "list"
      ]
     },
     "execution_count": 8,
     "metadata": {},
     "output_type": "execute_result"
    }
   ],
   "source": [
    "type(l2)"
   ]
  },
  {
   "cell_type": "code",
   "execution_count": 9,
   "id": "4dd10b8f",
   "metadata": {},
   "outputs": [
    {
     "data": {
      "text/plain": [
       "3"
      ]
     },
     "execution_count": 9,
     "metadata": {},
     "output_type": "execute_result"
    }
   ],
   "source": [
    "len(l2)"
   ]
  },
  {
   "cell_type": "code",
   "execution_count": 11,
   "id": "6ba7bef4",
   "metadata": {},
   "outputs": [
    {
     "data": {
      "text/plain": [
       "7"
      ]
     },
     "execution_count": 11,
     "metadata": {},
     "output_type": "execute_result"
    }
   ],
   "source": [
    "len(my_list1)"
   ]
  },
  {
   "cell_type": "markdown",
   "id": "64211770",
   "metadata": {},
   "source": [
    "# List Indexing"
   ]
  },
  {
   "cell_type": "code",
   "execution_count": 12,
   "id": "a6131ea2",
   "metadata": {},
   "outputs": [],
   "source": [
    "data_science_libraries=[\"SK Learn\",\"Tensorflow\",\"Keras\",\"Theano\",\"Numpy\",\"Pandas\",\"Pytorch\"]"
   ]
  },
  {
   "cell_type": "code",
   "execution_count": 13,
   "id": "29882027",
   "metadata": {},
   "outputs": [
    {
     "data": {
      "text/plain": [
       "'SK Learn'"
      ]
     },
     "execution_count": 13,
     "metadata": {},
     "output_type": "execute_result"
    }
   ],
   "source": [
    "data_science_libraries[0]"
   ]
  },
  {
   "cell_type": "code",
   "execution_count": 14,
   "id": "88ccd457",
   "metadata": {},
   "outputs": [
    {
     "ename": "IndexError",
     "evalue": "list index out of range",
     "output_type": "error",
     "traceback": [
      "\u001b[1;31m---------------------------------------------------------------------------\u001b[0m",
      "\u001b[1;31mIndexError\u001b[0m                                Traceback (most recent call last)",
      "Cell \u001b[1;32mIn[14], line 1\u001b[0m\n\u001b[1;32m----> 1\u001b[0m data_science_libraries[\u001b[38;5;241m7\u001b[39m]\n",
      "\u001b[1;31mIndexError\u001b[0m: list index out of range"
     ]
    }
   ],
   "source": [
    "data_science_libraries[7]"
   ]
  },
  {
   "cell_type": "code",
   "execution_count": 15,
   "id": "b57e2cf3",
   "metadata": {},
   "outputs": [
    {
     "data": {
      "text/plain": [
       "'Numpy'"
      ]
     },
     "execution_count": 15,
     "metadata": {},
     "output_type": "execute_result"
    }
   ],
   "source": [
    "data_science_libraries[4]"
   ]
  },
  {
   "cell_type": "code",
   "execution_count": 16,
   "id": "1170a105",
   "metadata": {},
   "outputs": [
    {
     "data": {
      "text/plain": [
       "'Theano'"
      ]
     },
     "execution_count": 16,
     "metadata": {},
     "output_type": "execute_result"
    }
   ],
   "source": [
    "data_science_libraries[-4]"
   ]
  },
  {
   "cell_type": "markdown",
   "id": "f713e48f",
   "metadata": {},
   "source": [
    "# List Slicing"
   ]
  },
  {
   "cell_type": "code",
   "execution_count": 24,
   "id": "5e6a32ea",
   "metadata": {},
   "outputs": [],
   "source": [
    "data_science_libraries=[\"SK Learn\",\"Tensorflow\",\"Keras\",\"Theano\",\"Numpy\",\"Pandas\",\"Pytorch\"]"
   ]
  },
  {
   "cell_type": "code",
   "execution_count": 25,
   "id": "ee29f73a",
   "metadata": {},
   "outputs": [
    {
     "data": {
      "text/plain": [
       "['Tensorflow', 'Keras']"
      ]
     },
     "execution_count": 25,
     "metadata": {},
     "output_type": "execute_result"
    }
   ],
   "source": [
    "data_science_libraries[1:3]"
   ]
  },
  {
   "cell_type": "code",
   "execution_count": 27,
   "id": "2fec90a8",
   "metadata": {},
   "outputs": [
    {
     "data": {
      "text/plain": [
       "['SK Learn', 'Tensorflow', 'Keras', 'Theano', 'Numpy', 'Pandas', 'Pytorch']"
      ]
     },
     "execution_count": 27,
     "metadata": {},
     "output_type": "execute_result"
    }
   ],
   "source": [
    "data_science_libraries[:]"
   ]
  },
  {
   "cell_type": "code",
   "execution_count": 29,
   "id": "54ac0837",
   "metadata": {},
   "outputs": [
    {
     "data": {
      "text/plain": [
       "['Keras', 'Theano', 'Numpy', 'Pandas']"
      ]
     },
     "execution_count": 29,
     "metadata": {},
     "output_type": "execute_result"
    }
   ],
   "source": [
    "data_science_libraries[2:6]"
   ]
  },
  {
   "cell_type": "code",
   "execution_count": 26,
   "id": "4f962843",
   "metadata": {},
   "outputs": [
    {
     "data": {
      "text/plain": [
       "['SK Learn', 'Keras', 'Numpy']"
      ]
     },
     "execution_count": 26,
     "metadata": {},
     "output_type": "execute_result"
    }
   ],
   "source": [
    "data_science_libraries[:5:2]"
   ]
  },
  {
   "cell_type": "code",
   "execution_count": 30,
   "id": "7546f7f7",
   "metadata": {},
   "outputs": [
    {
     "data": {
      "text/plain": [
       "['Pytorch', 'Pandas', 'Numpy', 'Theano', 'Keras', 'Tensorflow', 'SK Learn']"
      ]
     },
     "execution_count": 30,
     "metadata": {},
     "output_type": "execute_result"
    }
   ],
   "source": [
    "data_science_libraries[::-1]"
   ]
  },
  {
   "cell_type": "code",
   "execution_count": 17,
   "id": "218e5205",
   "metadata": {},
   "outputs": [],
   "source": [
    "str1=\"Hello\""
   ]
  },
  {
   "cell_type": "code",
   "execution_count": 18,
   "id": "7a02ede2",
   "metadata": {},
   "outputs": [
    {
     "data": {
      "text/plain": [
       "'H'"
      ]
     },
     "execution_count": 18,
     "metadata": {},
     "output_type": "execute_result"
    }
   ],
   "source": [
    "str1[0]"
   ]
  },
  {
   "cell_type": "code",
   "execution_count": 19,
   "id": "f48e3b99",
   "metadata": {},
   "outputs": [
    {
     "ename": "TypeError",
     "evalue": "'str' object does not support item assignment",
     "output_type": "error",
     "traceback": [
      "\u001b[1;31m---------------------------------------------------------------------------\u001b[0m",
      "\u001b[1;31mTypeError\u001b[0m                                 Traceback (most recent call last)",
      "Cell \u001b[1;32mIn[19], line 1\u001b[0m\n\u001b[1;32m----> 1\u001b[0m str1[\u001b[38;5;241m0\u001b[39m]\u001b[38;5;241m=\u001b[39m\u001b[38;5;124m'\u001b[39m\u001b[38;5;124mP\u001b[39m\u001b[38;5;124m'\u001b[39m\n",
      "\u001b[1;31mTypeError\u001b[0m: 'str' object does not support item assignment"
     ]
    }
   ],
   "source": [
    "str1[0]='P'"
   ]
  },
  {
   "cell_type": "code",
   "execution_count": 20,
   "id": "f98016d2",
   "metadata": {},
   "outputs": [],
   "source": [
    "l1=[1,2,3,4,5,6]"
   ]
  },
  {
   "cell_type": "code",
   "execution_count": 21,
   "id": "5443221b",
   "metadata": {},
   "outputs": [
    {
     "data": {
      "text/plain": [
       "[1, 2, 3, 4, 5, 6]"
      ]
     },
     "execution_count": 21,
     "metadata": {},
     "output_type": "execute_result"
    }
   ],
   "source": [
    "l1"
   ]
  },
  {
   "cell_type": "code",
   "execution_count": 22,
   "id": "c25cd01e",
   "metadata": {},
   "outputs": [
    {
     "data": {
      "text/plain": [
       "1"
      ]
     },
     "execution_count": 22,
     "metadata": {},
     "output_type": "execute_result"
    }
   ],
   "source": [
    "l1[0]"
   ]
  },
  {
   "cell_type": "code",
   "execution_count": 23,
   "id": "54b30a05",
   "metadata": {},
   "outputs": [],
   "source": [
    "l1[0]=7"
   ]
  },
  {
   "cell_type": "code",
   "execution_count": 24,
   "id": "44506860",
   "metadata": {},
   "outputs": [
    {
     "data": {
      "text/plain": [
       "[7, 2, 3, 4, 5, 6]"
      ]
     },
     "execution_count": 24,
     "metadata": {},
     "output_type": "execute_result"
    }
   ],
   "source": [
    "l1"
   ]
  },
  {
   "cell_type": "code",
   "execution_count": 35,
   "id": "f105c21f",
   "metadata": {},
   "outputs": [],
   "source": [
    "l1=[1,2,3,4,5,6,[7,8,9]]"
   ]
  },
  {
   "cell_type": "code",
   "execution_count": 36,
   "id": "a3b343a1",
   "metadata": {},
   "outputs": [
    {
     "data": {
      "text/plain": [
       "[1, 2, 3, 4, 5, 6, [7, 8, 9]]"
      ]
     },
     "execution_count": 36,
     "metadata": {},
     "output_type": "execute_result"
    }
   ],
   "source": [
    "l1"
   ]
  },
  {
   "cell_type": "code",
   "execution_count": 37,
   "id": "ef1f5341",
   "metadata": {},
   "outputs": [
    {
     "data": {
      "text/plain": [
       "[7, 8, 9]"
      ]
     },
     "execution_count": 37,
     "metadata": {},
     "output_type": "execute_result"
    }
   ],
   "source": [
    "l1[6]"
   ]
  },
  {
   "cell_type": "code",
   "execution_count": 42,
   "id": "959b641f",
   "metadata": {},
   "outputs": [
    {
     "data": {
      "text/plain": [
       "8"
      ]
     },
     "execution_count": 42,
     "metadata": {},
     "output_type": "execute_result"
    }
   ],
   "source": [
    "l1[6][1]"
   ]
  },
  {
   "cell_type": "code",
   "execution_count": 25,
   "id": "795b37c2",
   "metadata": {},
   "outputs": [],
   "source": [
    "l1=[1,2,3]"
   ]
  },
  {
   "cell_type": "code",
   "execution_count": 26,
   "id": "456fa3ac",
   "metadata": {},
   "outputs": [
    {
     "data": {
      "text/plain": [
       "[1, 2, 3, 's', 3]"
      ]
     },
     "execution_count": 26,
     "metadata": {},
     "output_type": "execute_result"
    }
   ],
   "source": [
    "l1+[\"s\",3]"
   ]
  },
  {
   "cell_type": "code",
   "execution_count": 27,
   "id": "115f0938",
   "metadata": {},
   "outputs": [
    {
     "data": {
      "text/plain": [
       "[1, 2, 3]"
      ]
     },
     "execution_count": 27,
     "metadata": {},
     "output_type": "execute_result"
    }
   ],
   "source": [
    "l1"
   ]
  },
  {
   "cell_type": "code",
   "execution_count": 28,
   "id": "51306d1d",
   "metadata": {},
   "outputs": [],
   "source": [
    "l2=l1+[4,5]"
   ]
  },
  {
   "cell_type": "code",
   "execution_count": 29,
   "id": "9a21a471",
   "metadata": {},
   "outputs": [
    {
     "data": {
      "text/plain": [
       "[1, 2, 3]"
      ]
     },
     "execution_count": 29,
     "metadata": {},
     "output_type": "execute_result"
    }
   ],
   "source": [
    "l1"
   ]
  },
  {
   "cell_type": "code",
   "execution_count": 30,
   "id": "d6797cc0",
   "metadata": {},
   "outputs": [
    {
     "data": {
      "text/plain": [
       "[1, 2, 3, 4, 5]"
      ]
     },
     "execution_count": 30,
     "metadata": {},
     "output_type": "execute_result"
    }
   ],
   "source": [
    "l2"
   ]
  },
  {
   "cell_type": "code",
   "execution_count": 31,
   "id": "828e0a31",
   "metadata": {},
   "outputs": [],
   "source": [
    "l1=[1,2,3]\n",
    "l2=[4,5]"
   ]
  },
  {
   "cell_type": "code",
   "execution_count": 32,
   "id": "a6a76827",
   "metadata": {},
   "outputs": [],
   "source": [
    "l3=l1+l2"
   ]
  },
  {
   "cell_type": "code",
   "execution_count": 33,
   "id": "39c0c4c4",
   "metadata": {},
   "outputs": [
    {
     "data": {
      "text/plain": [
       "[1, 2, 3, 4, 5]"
      ]
     },
     "execution_count": 33,
     "metadata": {},
     "output_type": "execute_result"
    }
   ],
   "source": [
    "l3"
   ]
  },
  {
   "cell_type": "code",
   "execution_count": 36,
   "id": "dae2646d",
   "metadata": {},
   "outputs": [
    {
     "data": {
      "text/plain": [
       "[1, 2, 3]"
      ]
     },
     "execution_count": 36,
     "metadata": {},
     "output_type": "execute_result"
    }
   ],
   "source": [
    "l1"
   ]
  },
  {
   "cell_type": "code",
   "execution_count": 38,
   "id": "96859666",
   "metadata": {},
   "outputs": [
    {
     "data": {
      "text/plain": [
       "[1, 2, 3, 2]"
      ]
     },
     "execution_count": 38,
     "metadata": {},
     "output_type": "execute_result"
    }
   ],
   "source": [
    "l1+[2]"
   ]
  },
  {
   "cell_type": "code",
   "execution_count": 34,
   "id": "b8ffbe0c",
   "metadata": {},
   "outputs": [
    {
     "data": {
      "text/plain": [
       "[1, 2, 3, 2, 3, 4]"
      ]
     },
     "execution_count": 34,
     "metadata": {},
     "output_type": "execute_result"
    }
   ],
   "source": [
    "l1+[2,3,4]"
   ]
  },
  {
   "cell_type": "code",
   "execution_count": 74,
   "id": "23224819",
   "metadata": {},
   "outputs": [
    {
     "data": {
      "text/plain": [
       "[1, 2, 3, 1, 2, 3, 1, 2, 3, 1, 2, 3, 1, 2, 3]"
      ]
     },
     "execution_count": 74,
     "metadata": {},
     "output_type": "execute_result"
    }
   ],
   "source": [
    "l1*5"
   ]
  },
  {
   "cell_type": "code",
   "execution_count": 39,
   "id": "71dad00f",
   "metadata": {},
   "outputs": [
    {
     "data": {
      "text/plain": [
       "[1, 2, 3, 4, 5]"
      ]
     },
     "execution_count": 39,
     "metadata": {},
     "output_type": "execute_result"
    }
   ],
   "source": [
    "l3"
   ]
  },
  {
   "cell_type": "code",
   "execution_count": 40,
   "id": "1c526f0c",
   "metadata": {},
   "outputs": [
    {
     "data": {
      "text/plain": [
       "5"
      ]
     },
     "execution_count": 40,
     "metadata": {},
     "output_type": "execute_result"
    }
   ],
   "source": [
    "len(l3)"
   ]
  },
  {
   "cell_type": "code",
   "execution_count": 42,
   "id": "87818338",
   "metadata": {},
   "outputs": [
    {
     "data": {
      "text/plain": [
       "1"
      ]
     },
     "execution_count": 42,
     "metadata": {},
     "output_type": "execute_result"
    }
   ],
   "source": [
    "min(l3)"
   ]
  },
  {
   "cell_type": "code",
   "execution_count": 43,
   "id": "1e5aa0f9",
   "metadata": {},
   "outputs": [
    {
     "data": {
      "text/plain": [
       "5"
      ]
     },
     "execution_count": 43,
     "metadata": {},
     "output_type": "execute_result"
    }
   ],
   "source": [
    "max(l3)"
   ]
  },
  {
   "cell_type": "code",
   "execution_count": 44,
   "id": "ec7dc499",
   "metadata": {},
   "outputs": [
    {
     "data": {
      "text/plain": [
       "15"
      ]
     },
     "execution_count": 44,
     "metadata": {},
     "output_type": "execute_result"
    }
   ],
   "source": [
    "sum(l3)"
   ]
  },
  {
   "cell_type": "code",
   "execution_count": 83,
   "id": "3d90b5db",
   "metadata": {},
   "outputs": [],
   "source": [
    "str_l=['a','c','b']"
   ]
  },
  {
   "cell_type": "code",
   "execution_count": 80,
   "id": "ca43a9c4",
   "metadata": {},
   "outputs": [
    {
     "data": {
      "text/plain": [
       "'c'"
      ]
     },
     "execution_count": 80,
     "metadata": {},
     "output_type": "execute_result"
    }
   ],
   "source": [
    "max(str_l)"
   ]
  },
  {
   "cell_type": "code",
   "execution_count": 81,
   "id": "e5027ebe",
   "metadata": {},
   "outputs": [
    {
     "data": {
      "text/plain": [
       "3"
      ]
     },
     "execution_count": 81,
     "metadata": {},
     "output_type": "execute_result"
    }
   ],
   "source": [
    "max(l1)"
   ]
  },
  {
   "cell_type": "code",
   "execution_count": 45,
   "id": "9d985cda",
   "metadata": {},
   "outputs": [],
   "source": [
    "sum_l=[2,8,3,4,7,5]"
   ]
  },
  {
   "cell_type": "code",
   "execution_count": 85,
   "id": "55e295f4",
   "metadata": {},
   "outputs": [
    {
     "data": {
      "text/plain": [
       "29"
      ]
     },
     "execution_count": 85,
     "metadata": {},
     "output_type": "execute_result"
    }
   ],
   "source": [
    "sum(sum_l)"
   ]
  },
  {
   "cell_type": "code",
   "execution_count": 46,
   "id": "4e50460b",
   "metadata": {},
   "outputs": [
    {
     "data": {
      "text/plain": [
       "[2, 3, 4, 5, 7, 8]"
      ]
     },
     "execution_count": 46,
     "metadata": {},
     "output_type": "execute_result"
    }
   ],
   "source": [
    "sorted(sum_l)"
   ]
  },
  {
   "cell_type": "code",
   "execution_count": 47,
   "id": "fb47ff4d",
   "metadata": {},
   "outputs": [
    {
     "data": {
      "text/plain": [
       "[2, 8, 3, 4, 7, 5]"
      ]
     },
     "execution_count": 47,
     "metadata": {},
     "output_type": "execute_result"
    }
   ],
   "source": [
    "sum_l"
   ]
  },
  {
   "cell_type": "code",
   "execution_count": 88,
   "id": "0a6c81b7",
   "metadata": {},
   "outputs": [
    {
     "data": {
      "text/plain": [
       "[8, 7, 5, 4, 3, 2]"
      ]
     },
     "execution_count": 88,
     "metadata": {},
     "output_type": "execute_result"
    }
   ],
   "source": [
    "sorted(sum_l,reverse=True)"
   ]
  },
  {
   "cell_type": "code",
   "execution_count": 48,
   "id": "86387e30",
   "metadata": {},
   "outputs": [
    {
     "data": {
      "text/plain": [
       "[2, 8, 3, 4, 7, 5]"
      ]
     },
     "execution_count": 48,
     "metadata": {},
     "output_type": "execute_result"
    }
   ],
   "source": [
    "sum_l"
   ]
  },
  {
   "cell_type": "code",
   "execution_count": 49,
   "id": "617c1ca1",
   "metadata": {},
   "outputs": [],
   "source": [
    "sum_l.append(\"append_me\")"
   ]
  },
  {
   "cell_type": "code",
   "execution_count": 50,
   "id": "5ffcfed8",
   "metadata": {},
   "outputs": [
    {
     "data": {
      "text/plain": [
       "[2, 8, 3, 4, 7, 5, 'append_me']"
      ]
     },
     "execution_count": 50,
     "metadata": {},
     "output_type": "execute_result"
    }
   ],
   "source": [
    "sum_l"
   ]
  },
  {
   "cell_type": "code",
   "execution_count": 52,
   "id": "9dc2f314",
   "metadata": {},
   "outputs": [],
   "source": [
    "sum_l.append([\"append_me\",7])"
   ]
  },
  {
   "cell_type": "code",
   "execution_count": 53,
   "id": "0133ff87",
   "metadata": {},
   "outputs": [
    {
     "data": {
      "text/plain": [
       "[2, 8, 3, 4, 7, 5, 'append_me', ['append_me', 7]]"
      ]
     },
     "execution_count": 53,
     "metadata": {},
     "output_type": "execute_result"
    }
   ],
   "source": [
    "sum_l"
   ]
  },
  {
   "cell_type": "code",
   "execution_count": 95,
   "id": "8ff7fb1d",
   "metadata": {},
   "outputs": [
    {
     "data": {
      "text/plain": [
       "[2, 8, 3, 4, 7, 5, 'append_me', ['append_me', 7]]"
      ]
     },
     "execution_count": 95,
     "metadata": {},
     "output_type": "execute_result"
    }
   ],
   "source": [
    "sum_l"
   ]
  },
  {
   "cell_type": "code",
   "execution_count": 54,
   "id": "7d6b4bd7",
   "metadata": {},
   "outputs": [],
   "source": [
    "sum_l.extend([10,11,12])"
   ]
  },
  {
   "cell_type": "code",
   "execution_count": 55,
   "id": "67f9b672",
   "metadata": {},
   "outputs": [
    {
     "data": {
      "text/plain": [
       "[2, 8, 3, 4, 7, 5, 'append_me', ['append_me', 7], 10, 11, 12]"
      ]
     },
     "execution_count": 55,
     "metadata": {},
     "output_type": "execute_result"
    }
   ],
   "source": [
    "sum_l"
   ]
  },
  {
   "cell_type": "code",
   "execution_count": 56,
   "id": "63840ec2",
   "metadata": {},
   "outputs": [],
   "source": [
    "pass_list=[34,65,89]"
   ]
  },
  {
   "cell_type": "code",
   "execution_count": 57,
   "id": "0ec0b0a4",
   "metadata": {},
   "outputs": [],
   "source": [
    "sum_l.extend(pass_list)"
   ]
  },
  {
   "cell_type": "code",
   "execution_count": 58,
   "id": "640f4f9b",
   "metadata": {},
   "outputs": [
    {
     "data": {
      "text/plain": [
       "[2, 8, 3, 4, 7, 5, 'append_me', ['append_me', 7], 10, 11, 12, 34, 65, 89]"
      ]
     },
     "execution_count": 58,
     "metadata": {},
     "output_type": "execute_result"
    }
   ],
   "source": [
    "sum_l"
   ]
  },
  {
   "cell_type": "code",
   "execution_count": 60,
   "id": "0faad4a2",
   "metadata": {},
   "outputs": [
    {
     "data": {
      "text/plain": [
       "89"
      ]
     },
     "execution_count": 60,
     "metadata": {},
     "output_type": "execute_result"
    }
   ],
   "source": [
    "sum_l.pop()"
   ]
  },
  {
   "cell_type": "code",
   "execution_count": 61,
   "id": "1f738cb7",
   "metadata": {},
   "outputs": [
    {
     "data": {
      "text/plain": [
       "[2, 8, 3, 4, 7, 5, 'append_me', ['append_me', 7], 10, 11, 12, 34, 65]"
      ]
     },
     "execution_count": 61,
     "metadata": {},
     "output_type": "execute_result"
    }
   ],
   "source": [
    "sum_l"
   ]
  },
  {
   "cell_type": "code",
   "execution_count": 62,
   "id": "3e396a21",
   "metadata": {},
   "outputs": [
    {
     "data": {
      "text/plain": [
       "['append_me', 7]"
      ]
     },
     "execution_count": 62,
     "metadata": {},
     "output_type": "execute_result"
    }
   ],
   "source": [
    "sum_l.pop(7)"
   ]
  },
  {
   "cell_type": "code",
   "execution_count": 63,
   "id": "9b6707ce",
   "metadata": {},
   "outputs": [
    {
     "data": {
      "text/plain": [
       "[2, 8, 3, 4, 7, 5, 'append_me', 10, 11, 12, 34, 65]"
      ]
     },
     "execution_count": 63,
     "metadata": {},
     "output_type": "execute_result"
    }
   ],
   "source": [
    "sum_l"
   ]
  },
  {
   "cell_type": "code",
   "execution_count": 64,
   "id": "bff3b012",
   "metadata": {},
   "outputs": [
    {
     "data": {
      "text/plain": [
       "'append_me'"
      ]
     },
     "execution_count": 64,
     "metadata": {},
     "output_type": "execute_result"
    }
   ],
   "source": [
    "sum_l.pop(-6)"
   ]
  },
  {
   "cell_type": "code",
   "execution_count": 65,
   "id": "7f4d56aa",
   "metadata": {},
   "outputs": [
    {
     "data": {
      "text/plain": [
       "[2, 8, 3, 4, 7, 5, 10, 11, 12, 34, 65]"
      ]
     },
     "execution_count": 65,
     "metadata": {},
     "output_type": "execute_result"
    }
   ],
   "source": [
    "sum_l"
   ]
  },
  {
   "cell_type": "code",
   "execution_count": 66,
   "id": "6a2cf931",
   "metadata": {},
   "outputs": [],
   "source": [
    "sum_l.remove(2)"
   ]
  },
  {
   "cell_type": "code",
   "execution_count": 67,
   "id": "fcb98d8e",
   "metadata": {},
   "outputs": [
    {
     "data": {
      "text/plain": [
       "[8, 3, 4, 7, 5, 10, 11, 12, 34, 65]"
      ]
     },
     "execution_count": 67,
     "metadata": {},
     "output_type": "execute_result"
    }
   ],
   "source": [
    "sum_l"
   ]
  },
  {
   "cell_type": "code",
   "execution_count": 68,
   "id": "06623b7c",
   "metadata": {},
   "outputs": [],
   "source": [
    "new_l=[8, 3, 4,  5, 10, 11, 4,12, 34, 65,5]"
   ]
  },
  {
   "cell_type": "code",
   "execution_count": 69,
   "id": "324df55f",
   "metadata": {},
   "outputs": [
    {
     "data": {
      "text/plain": [
       "[8, 3, 4, 5, 10, 11, 4, 12, 34, 65, 5]"
      ]
     },
     "execution_count": 69,
     "metadata": {},
     "output_type": "execute_result"
    }
   ],
   "source": [
    "new_l"
   ]
  },
  {
   "cell_type": "code",
   "execution_count": 70,
   "id": "20e0644f",
   "metadata": {},
   "outputs": [],
   "source": [
    "new_l.remove(4)"
   ]
  },
  {
   "cell_type": "code",
   "execution_count": 115,
   "id": "ad3776bb",
   "metadata": {},
   "outputs": [
    {
     "data": {
      "text/plain": [
       "[8, 3, 5, 10, 11, 4, 12, 34, 65, 5]"
      ]
     },
     "execution_count": 115,
     "metadata": {},
     "output_type": "execute_result"
    }
   ],
   "source": [
    "new_l"
   ]
  },
  {
   "cell_type": "code",
   "execution_count": null,
   "id": "6eb48476",
   "metadata": {},
   "outputs": [],
   "source": []
  },
  {
   "cell_type": "code",
   "execution_count": 71,
   "id": "ee06bccb",
   "metadata": {},
   "outputs": [
    {
     "data": {
      "text/plain": [
       "8"
      ]
     },
     "execution_count": 71,
     "metadata": {},
     "output_type": "execute_result"
    }
   ],
   "source": [
    "new_l.index(65)"
   ]
  },
  {
   "cell_type": "code",
   "execution_count": 72,
   "id": "1a903ee2",
   "metadata": {},
   "outputs": [],
   "source": [
    "new_l.reverse()"
   ]
  },
  {
   "cell_type": "code",
   "execution_count": 73,
   "id": "2a4433c7",
   "metadata": {},
   "outputs": [
    {
     "data": {
      "text/plain": [
       "[5, 65, 34, 12, 4, 11, 10, 5, 3, 8]"
      ]
     },
     "execution_count": 73,
     "metadata": {},
     "output_type": "execute_result"
    }
   ],
   "source": [
    "new_l"
   ]
  },
  {
   "cell_type": "code",
   "execution_count": 74,
   "id": "b40861d2",
   "metadata": {},
   "outputs": [],
   "source": [
    "new_l.sort()"
   ]
  },
  {
   "cell_type": "code",
   "execution_count": 75,
   "id": "f221c751",
   "metadata": {},
   "outputs": [
    {
     "data": {
      "text/plain": [
       "[3, 4, 5, 5, 8, 10, 11, 12, 34, 65]"
      ]
     },
     "execution_count": 75,
     "metadata": {},
     "output_type": "execute_result"
    }
   ],
   "source": [
    "new_l"
   ]
  },
  {
   "cell_type": "code",
   "execution_count": 76,
   "id": "26654873",
   "metadata": {},
   "outputs": [],
   "source": [
    "new_l.sort(reverse=True)"
   ]
  },
  {
   "cell_type": "code",
   "execution_count": 77,
   "id": "603eefa9",
   "metadata": {},
   "outputs": [
    {
     "data": {
      "text/plain": [
       "[65, 34, 12, 11, 10, 8, 5, 5, 4, 3]"
      ]
     },
     "execution_count": 77,
     "metadata": {},
     "output_type": "execute_result"
    }
   ],
   "source": [
    "new_l"
   ]
  },
  {
   "cell_type": "code",
   "execution_count": 83,
   "id": "572c2d29",
   "metadata": {},
   "outputs": [],
   "source": [
    "nested_list=[1,2,3,4,[5,6,7],8,9]"
   ]
  },
  {
   "cell_type": "code",
   "execution_count": 86,
   "id": "4803f336",
   "metadata": {},
   "outputs": [],
   "source": [
    "nested_list.reverse()"
   ]
  },
  {
   "cell_type": "code",
   "execution_count": 88,
   "id": "52c9e01d",
   "metadata": {},
   "outputs": [
    {
     "data": {
      "text/plain": [
       "[9, 8, [5, 6, 7], 4, 3, 2, 1]"
      ]
     },
     "execution_count": 88,
     "metadata": {},
     "output_type": "execute_result"
    }
   ],
   "source": [
    "nested_list"
   ]
  },
  {
   "cell_type": "code",
   "execution_count": 91,
   "id": "ca5f66da",
   "metadata": {},
   "outputs": [
    {
     "data": {
      "text/plain": [
       "[9, 8, [7, 6, 5], 4, 3, 2, 1]"
      ]
     },
     "execution_count": 91,
     "metadata": {},
     "output_type": "execute_result"
    }
   ],
   "source": [
    "nested_list"
   ]
  },
  {
   "cell_type": "code",
   "execution_count": 92,
   "id": "007b323c",
   "metadata": {},
   "outputs": [],
   "source": [
    "d_list=[2,9,4,3]"
   ]
  },
  {
   "cell_type": "code",
   "execution_count": 93,
   "id": "bce6a132",
   "metadata": {},
   "outputs": [
    {
     "data": {
      "text/plain": [
       "[2, 3, 4, 9]"
      ]
     },
     "execution_count": 93,
     "metadata": {},
     "output_type": "execute_result"
    }
   ],
   "source": [
    "sorted(d_list)"
   ]
  },
  {
   "cell_type": "code",
   "execution_count": 94,
   "id": "7e53fd63",
   "metadata": {},
   "outputs": [
    {
     "data": {
      "text/plain": [
       "[2, 9, 4, 3]"
      ]
     },
     "execution_count": 94,
     "metadata": {},
     "output_type": "execute_result"
    }
   ],
   "source": [
    "d_list"
   ]
  },
  {
   "cell_type": "code",
   "execution_count": 95,
   "id": "067404dc",
   "metadata": {},
   "outputs": [],
   "source": [
    "d_list.sort()"
   ]
  },
  {
   "cell_type": "code",
   "execution_count": 96,
   "id": "b09ea2b4",
   "metadata": {},
   "outputs": [
    {
     "data": {
      "text/plain": [
       "[2, 3, 4, 9]"
      ]
     },
     "execution_count": 96,
     "metadata": {},
     "output_type": "execute_result"
    }
   ],
   "source": [
    "d_list"
   ]
  },
  {
   "cell_type": "code",
   "execution_count": 90,
   "id": "92195163",
   "metadata": {},
   "outputs": [],
   "source": [
    "nested_list[2].reverse()"
   ]
  },
  {
   "cell_type": "code",
   "execution_count": 3,
   "id": "b0b088cd",
   "metadata": {},
   "outputs": [],
   "source": [
    "n_l=nested_list[4]"
   ]
  },
  {
   "cell_type": "code",
   "execution_count": 4,
   "id": "85e32fb5",
   "metadata": {},
   "outputs": [
    {
     "data": {
      "text/plain": [
       "[5, 6, 7]"
      ]
     },
     "execution_count": 4,
     "metadata": {},
     "output_type": "execute_result"
    }
   ],
   "source": [
    "n_l"
   ]
  },
  {
   "cell_type": "code",
   "execution_count": 5,
   "id": "afdf79e3",
   "metadata": {},
   "outputs": [
    {
     "data": {
      "text/plain": [
       "6"
      ]
     },
     "execution_count": 5,
     "metadata": {},
     "output_type": "execute_result"
    }
   ],
   "source": [
    "n_l[1]"
   ]
  },
  {
   "cell_type": "code",
   "execution_count": 97,
   "id": "eea8f370",
   "metadata": {},
   "outputs": [],
   "source": [
    "nested_list=[1,2,3,4,[5,6,7,[11,12,13,[14,15,16]]],8,9]"
   ]
  },
  {
   "cell_type": "code",
   "execution_count": 8,
   "id": "264cad2d",
   "metadata": {},
   "outputs": [
    {
     "data": {
      "text/plain": [
       "[5, 6, 7, [11, 12, 13, [14, 15, 16]]]"
      ]
     },
     "execution_count": 8,
     "metadata": {},
     "output_type": "execute_result"
    }
   ],
   "source": [
    "nested_list[4]"
   ]
  },
  {
   "cell_type": "code",
   "execution_count": 9,
   "id": "9f03bc26",
   "metadata": {},
   "outputs": [
    {
     "data": {
      "text/plain": [
       "[11, 12, 13, [14, 15, 16]]"
      ]
     },
     "execution_count": 9,
     "metadata": {},
     "output_type": "execute_result"
    }
   ],
   "source": [
    "nested_list[4][3]"
   ]
  },
  {
   "cell_type": "code",
   "execution_count": 10,
   "id": "e623e0cc",
   "metadata": {},
   "outputs": [
    {
     "data": {
      "text/plain": [
       "[14, 15, 16]"
      ]
     },
     "execution_count": 10,
     "metadata": {},
     "output_type": "execute_result"
    }
   ],
   "source": [
    "nested_list[4][3][3]"
   ]
  },
  {
   "cell_type": "code",
   "execution_count": 11,
   "id": "132c68d0",
   "metadata": {},
   "outputs": [
    {
     "data": {
      "text/plain": [
       "16"
      ]
     },
     "execution_count": 11,
     "metadata": {},
     "output_type": "execute_result"
    }
   ],
   "source": [
    "nested_list[4][3][3][2]"
   ]
  },
  {
   "cell_type": "code",
   "execution_count": 12,
   "id": "dd4ec9b4",
   "metadata": {},
   "outputs": [
    {
     "data": {
      "text/plain": [
       "8"
      ]
     },
     "execution_count": 12,
     "metadata": {},
     "output_type": "execute_result"
    }
   ],
   "source": [
    "nested_list[5]"
   ]
  },
  {
   "cell_type": "code",
   "execution_count": 20,
   "id": "711a06e4",
   "metadata": {},
   "outputs": [],
   "source": [
    "nested_list=[[1,2,3],[['d','e'],'a','b','c',[4,5,6]]]"
   ]
  },
  {
   "cell_type": "code",
   "execution_count": 17,
   "id": "4a5436f2",
   "metadata": {},
   "outputs": [
    {
     "data": {
      "text/plain": [
       "5"
      ]
     },
     "execution_count": 17,
     "metadata": {},
     "output_type": "execute_result"
    }
   ],
   "source": [
    "nested_list[1][3][1]"
   ]
  },
  {
   "cell_type": "code",
   "execution_count": 21,
   "id": "90a8bb9e",
   "metadata": {},
   "outputs": [
    {
     "data": {
      "text/plain": [
       "['d', 'e']"
      ]
     },
     "execution_count": 21,
     "metadata": {},
     "output_type": "execute_result"
    }
   ],
   "source": [
    "nested_list[1][0]"
   ]
  },
  {
   "cell_type": "code",
   "execution_count": 22,
   "id": "c087c5e4",
   "metadata": {},
   "outputs": [
    {
     "data": {
      "text/plain": [
       "2"
      ]
     },
     "execution_count": 22,
     "metadata": {},
     "output_type": "execute_result"
    }
   ],
   "source": [
    "nested_list[0][1]"
   ]
  },
  {
   "cell_type": "code",
   "execution_count": 98,
   "id": "14df1845",
   "metadata": {},
   "outputs": [],
   "source": [
    "l1 = [5,6,3,9,0,1,7]\n",
    "l2 = l1.sort()"
   ]
  },
  {
   "cell_type": "code",
   "execution_count": 105,
   "id": "6f2ae68e",
   "metadata": {},
   "outputs": [
    {
     "name": "stdout",
     "output_type": "stream",
     "text": [
      "None\n"
     ]
    }
   ],
   "source": [
    "print(l1.sort())"
   ]
  },
  {
   "cell_type": "code",
   "execution_count": 104,
   "id": "4d6b3160",
   "metadata": {},
   "outputs": [
    {
     "name": "stdout",
     "output_type": "stream",
     "text": [
      "[0, 1, 3, 5, 6, 7, 9]\n"
     ]
    }
   ],
   "source": [
    "print(l1)"
   ]
  },
  {
   "cell_type": "code",
   "execution_count": 99,
   "id": "336acb4c",
   "metadata": {},
   "outputs": [
    {
     "data": {
      "text/plain": [
       "[0, 1, 3, 5, 6, 7, 9]"
      ]
     },
     "execution_count": 99,
     "metadata": {},
     "output_type": "execute_result"
    }
   ],
   "source": [
    "l1"
   ]
  },
  {
   "cell_type": "code",
   "execution_count": 106,
   "id": "4162c71b",
   "metadata": {},
   "outputs": [],
   "source": [
    "l5=[1,2,3,4]"
   ]
  },
  {
   "cell_type": "code",
   "execution_count": 107,
   "id": "41df10dc",
   "metadata": {},
   "outputs": [],
   "source": [
    "l6=l5"
   ]
  },
  {
   "cell_type": "code",
   "execution_count": 108,
   "id": "78a3de16",
   "metadata": {},
   "outputs": [
    {
     "name": "stdout",
     "output_type": "stream",
     "text": [
      "[1, 2, 3, 4]\n"
     ]
    }
   ],
   "source": [
    "print(l5)"
   ]
  },
  {
   "cell_type": "code",
   "execution_count": 109,
   "id": "ff3468c0",
   "metadata": {},
   "outputs": [
    {
     "name": "stdout",
     "output_type": "stream",
     "text": [
      "[1, 2, 3, 4]\n"
     ]
    }
   ],
   "source": [
    "print(l6)"
   ]
  },
  {
   "cell_type": "code",
   "execution_count": 110,
   "id": "269c9900",
   "metadata": {},
   "outputs": [],
   "source": [
    "l6[0]=5"
   ]
  },
  {
   "cell_type": "code",
   "execution_count": 111,
   "id": "e4703b35",
   "metadata": {},
   "outputs": [
    {
     "name": "stdout",
     "output_type": "stream",
     "text": [
      "[5, 2, 3, 4]\n"
     ]
    }
   ],
   "source": [
    "print(l6)"
   ]
  },
  {
   "cell_type": "code",
   "execution_count": 112,
   "id": "bf6d645b",
   "metadata": {},
   "outputs": [
    {
     "data": {
      "text/plain": [
       "[5, 2, 3, 4]"
      ]
     },
     "execution_count": 112,
     "metadata": {},
     "output_type": "execute_result"
    }
   ],
   "source": [
    "l5"
   ]
  },
  {
   "cell_type": "code",
   "execution_count": 113,
   "id": "84208d4f",
   "metadata": {},
   "outputs": [],
   "source": [
    "l6=l5.copy()"
   ]
  },
  {
   "cell_type": "code",
   "execution_count": 114,
   "id": "f2c04fe9",
   "metadata": {},
   "outputs": [
    {
     "name": "stdout",
     "output_type": "stream",
     "text": [
      "[5, 2, 3, 4]\n",
      "[5, 2, 3, 4]\n"
     ]
    }
   ],
   "source": [
    "print(l5)\n",
    "print(l6)"
   ]
  },
  {
   "cell_type": "code",
   "execution_count": 115,
   "id": "1477ab4e",
   "metadata": {},
   "outputs": [],
   "source": [
    "l6[0]=1"
   ]
  },
  {
   "cell_type": "code",
   "execution_count": 116,
   "id": "5142a638",
   "metadata": {},
   "outputs": [
    {
     "name": "stdout",
     "output_type": "stream",
     "text": [
      "[5, 2, 3, 4]\n",
      "[1, 2, 3, 4]\n"
     ]
    }
   ],
   "source": [
    "print(l5)\n",
    "print(l6)"
   ]
  },
  {
   "cell_type": "code",
   "execution_count": null,
   "id": "1a712bc4",
   "metadata": {},
   "outputs": [],
   "source": []
  },
  {
   "cell_type": "code",
   "execution_count": null,
   "id": "a9bac85c",
   "metadata": {},
   "outputs": [],
   "source": []
  }
 ],
 "metadata": {
  "kernelspec": {
   "display_name": "Python 3 (ipykernel)",
   "language": "python",
   "name": "python3"
  },
  "language_info": {
   "codemirror_mode": {
    "name": "ipython",
    "version": 3
   },
   "file_extension": ".py",
   "mimetype": "text/x-python",
   "name": "python",
   "nbconvert_exporter": "python",
   "pygments_lexer": "ipython3",
   "version": "3.11.5"
  }
 },
 "nbformat": 4,
 "nbformat_minor": 5
}
